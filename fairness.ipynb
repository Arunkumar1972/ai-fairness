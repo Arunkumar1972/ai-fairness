{
 "cells": [
  {
   "cell_type": "markdown",
   "metadata": {},
   "source": [
    "# AI for Ethics\n",
    "Final Project Summer 2020"
   ]
  },
  {
   "cell_type": "code",
   "execution_count": 2,
   "metadata": {},
   "outputs": [],
   "source": [
    "import pandas as pd\n",
    "import numpy as np\n",
    "import matplotlib.pyplot as plt\n",
    "import zipfile"
   ]
  },
  {
   "cell_type": "code",
   "execution_count": 3,
   "metadata": {},
   "outputs": [],
   "source": [
    "path_to_zip_file = './ny_hmda_2015.csv.zip'\n",
    "directory_to_extract_to = './'\n",
    "with zipfile.ZipFile(path_to_zip_file, 'r') as zip_ref:\n",
    "    zip_ref.extractall(directory_to_extract_to)"
   ]
  },
  {
   "cell_type": "code",
   "execution_count": 4,
   "metadata": {},
   "outputs": [],
   "source": [
    "df = pd.read_csv(filepath_or_buffer='./ny_hmda_2015.csv')"
   ]
  },
  {
   "cell_type": "code",
   "execution_count": 5,
   "metadata": {},
   "outputs": [
    {
     "output_type": "execute_result",
     "data": {
      "text/plain": "   action_taken action_taken_name  agency_code agency_abbr  \\\n0             1   Loan originated            9        CFPB   \n1             1   Loan originated            9        CFPB   \n2             1   Loan originated            7         HUD   \n3             1   Loan originated            9        CFPB   \n4             1   Loan originated            9        CFPB   \n\n                                   agency_name  applicant_ethnicity  \\\n0         Consumer Financial Protection Bureau                    2   \n1         Consumer Financial Protection Bureau                    2   \n2  Department of Housing and Urban Development                    2   \n3         Consumer Financial Protection Bureau                    2   \n4         Consumer Financial Protection Bureau                    2   \n\n  applicant_ethnicity_name  applicant_income_000s  applicant_race_1  \\\n0   Not Hispanic or Latino                   97.0                 5   \n1   Not Hispanic or Latino                  200.0                 5   \n2   Not Hispanic or Latino                    NaN                 3   \n3   Not Hispanic or Latino                  202.0                 5   \n4   Not Hispanic or Latino                  255.0                 5   \n\n   applicant_race_2  ...  state_abbr  state_name  hud_median_family_income  \\\n0               NaN  ...          NY    New York                  109000.0   \n1               NaN  ...          NY    New York                   71300.0   \n2               NaN  ...          NY    New York                   71300.0   \n3               NaN  ...          NY    New York                  109000.0   \n4               NaN  ...          NY    New York                  109000.0   \n\n  loan_amount_000s number_of_1_to_4_family_units  \\\n0              187                         363.0   \n1              460                          53.0   \n2              296                        2745.0   \n3              770                        1879.0   \n4              648                         835.0   \n\n  number_of_owner_occupied_units minority_population population  rate_spread  \\\n0                         1817.0           21.139999     5870.0          NaN   \n1                          256.0           45.959999     3512.0          NaN   \n2                         2586.0           38.990002     8357.0          NaN   \n3                         2147.0            7.350000     6642.0          NaN   \n4                          676.0           30.059999     2339.0          NaN   \n\n  tract_to_msamd_income  \n0            109.459999  \n1            160.600006  \n2            134.820007  \n3            165.830002  \n4            133.300003  \n\n[5 rows x 78 columns]",
      "text/html": "<div>\n<style scoped>\n    .dataframe tbody tr th:only-of-type {\n        vertical-align: middle;\n    }\n\n    .dataframe tbody tr th {\n        vertical-align: top;\n    }\n\n    .dataframe thead th {\n        text-align: right;\n    }\n</style>\n<table border=\"1\" class=\"dataframe\">\n  <thead>\n    <tr style=\"text-align: right;\">\n      <th></th>\n      <th>action_taken</th>\n      <th>action_taken_name</th>\n      <th>agency_code</th>\n      <th>agency_abbr</th>\n      <th>agency_name</th>\n      <th>applicant_ethnicity</th>\n      <th>applicant_ethnicity_name</th>\n      <th>applicant_income_000s</th>\n      <th>applicant_race_1</th>\n      <th>applicant_race_2</th>\n      <th>...</th>\n      <th>state_abbr</th>\n      <th>state_name</th>\n      <th>hud_median_family_income</th>\n      <th>loan_amount_000s</th>\n      <th>number_of_1_to_4_family_units</th>\n      <th>number_of_owner_occupied_units</th>\n      <th>minority_population</th>\n      <th>population</th>\n      <th>rate_spread</th>\n      <th>tract_to_msamd_income</th>\n    </tr>\n  </thead>\n  <tbody>\n    <tr>\n      <th>0</th>\n      <td>1</td>\n      <td>Loan originated</td>\n      <td>9</td>\n      <td>CFPB</td>\n      <td>Consumer Financial Protection Bureau</td>\n      <td>2</td>\n      <td>Not Hispanic or Latino</td>\n      <td>97.0</td>\n      <td>5</td>\n      <td>NaN</td>\n      <td>...</td>\n      <td>NY</td>\n      <td>New York</td>\n      <td>109000.0</td>\n      <td>187</td>\n      <td>363.0</td>\n      <td>1817.0</td>\n      <td>21.139999</td>\n      <td>5870.0</td>\n      <td>NaN</td>\n      <td>109.459999</td>\n    </tr>\n    <tr>\n      <th>1</th>\n      <td>1</td>\n      <td>Loan originated</td>\n      <td>9</td>\n      <td>CFPB</td>\n      <td>Consumer Financial Protection Bureau</td>\n      <td>2</td>\n      <td>Not Hispanic or Latino</td>\n      <td>200.0</td>\n      <td>5</td>\n      <td>NaN</td>\n      <td>...</td>\n      <td>NY</td>\n      <td>New York</td>\n      <td>71300.0</td>\n      <td>460</td>\n      <td>53.0</td>\n      <td>256.0</td>\n      <td>45.959999</td>\n      <td>3512.0</td>\n      <td>NaN</td>\n      <td>160.600006</td>\n    </tr>\n    <tr>\n      <th>2</th>\n      <td>1</td>\n      <td>Loan originated</td>\n      <td>7</td>\n      <td>HUD</td>\n      <td>Department of Housing and Urban Development</td>\n      <td>2</td>\n      <td>Not Hispanic or Latino</td>\n      <td>NaN</td>\n      <td>3</td>\n      <td>NaN</td>\n      <td>...</td>\n      <td>NY</td>\n      <td>New York</td>\n      <td>71300.0</td>\n      <td>296</td>\n      <td>2745.0</td>\n      <td>2586.0</td>\n      <td>38.990002</td>\n      <td>8357.0</td>\n      <td>NaN</td>\n      <td>134.820007</td>\n    </tr>\n    <tr>\n      <th>3</th>\n      <td>1</td>\n      <td>Loan originated</td>\n      <td>9</td>\n      <td>CFPB</td>\n      <td>Consumer Financial Protection Bureau</td>\n      <td>2</td>\n      <td>Not Hispanic or Latino</td>\n      <td>202.0</td>\n      <td>5</td>\n      <td>NaN</td>\n      <td>...</td>\n      <td>NY</td>\n      <td>New York</td>\n      <td>109000.0</td>\n      <td>770</td>\n      <td>1879.0</td>\n      <td>2147.0</td>\n      <td>7.350000</td>\n      <td>6642.0</td>\n      <td>NaN</td>\n      <td>165.830002</td>\n    </tr>\n    <tr>\n      <th>4</th>\n      <td>1</td>\n      <td>Loan originated</td>\n      <td>9</td>\n      <td>CFPB</td>\n      <td>Consumer Financial Protection Bureau</td>\n      <td>2</td>\n      <td>Not Hispanic or Latino</td>\n      <td>255.0</td>\n      <td>5</td>\n      <td>NaN</td>\n      <td>...</td>\n      <td>NY</td>\n      <td>New York</td>\n      <td>109000.0</td>\n      <td>648</td>\n      <td>835.0</td>\n      <td>676.0</td>\n      <td>30.059999</td>\n      <td>2339.0</td>\n      <td>NaN</td>\n      <td>133.300003</td>\n    </tr>\n  </tbody>\n</table>\n<p>5 rows × 78 columns</p>\n</div>"
     },
     "metadata": {},
     "execution_count": 5
    }
   ],
   "source": [
    "df.head()"
   ]
  },
  {
   "cell_type": "code",
   "execution_count": 6,
   "metadata": {},
   "outputs": [
    {
     "output_type": "execute_result",
     "data": {
      "text/plain": "(439654, 78)"
     },
     "metadata": {},
     "execution_count": 6
    }
   ],
   "source": [
    "df.shape"
   ]
  },
  {
   "cell_type": "code",
   "execution_count": 7,
   "metadata": {},
   "outputs": [
    {
     "output_type": "execute_result",
     "data": {
      "text/plain": "Index(['action_taken', 'action_taken_name', 'agency_code', 'agency_abbr',\n       'agency_name', 'applicant_ethnicity', 'applicant_ethnicity_name',\n       'applicant_income_000s', 'applicant_race_1', 'applicant_race_2',\n       'applicant_race_3', 'applicant_race_4', 'applicant_race_5',\n       'applicant_race_name_1', 'applicant_race_name_2',\n       'applicant_race_name_3', 'applicant_race_name_4',\n       'applicant_race_name_5', 'applicant_sex', 'applicant_sex_name',\n       'application_date_indicator', 'as_of_year', 'census_tract_number',\n       'co_applicant_ethnicity', 'co_applicant_ethnicity_name',\n       'co_applicant_race_1', 'co_applicant_race_2', 'co_applicant_race_3',\n       'co_applicant_race_4', 'co_applicant_race_5',\n       'co_applicant_race_name_1', 'co_applicant_race_name_2',\n       'co_applicant_race_name_3', 'co_applicant_race_name_4',\n       'co_applicant_race_name_5', 'co_applicant_sex', 'co_applicant_sex_name',\n       'county_code', 'county_name', 'denial_reason_1', 'denial_reason_2',\n       'denial_reason_3', 'denial_reason_name_1', 'denial_reason_name_2',\n       'denial_reason_name_3', 'edit_status', 'edit_status_name',\n       'hoepa_status', 'hoepa_status_name', 'lien_status', 'lien_status_name',\n       'loan_purpose', 'loan_purpose_name', 'loan_type', 'loan_type_name',\n       'msamd', 'msamd_name', 'owner_occupancy', 'owner_occupancy_name',\n       'preapproval', 'preapproval_name', 'property_type',\n       'property_type_name', 'purchaser_type', 'purchaser_type_name',\n       'respondent_id', 'sequence_number', 'state_code', 'state_abbr',\n       'state_name', 'hud_median_family_income', 'loan_amount_000s',\n       'number_of_1_to_4_family_units', 'number_of_owner_occupied_units',\n       'minority_population', 'population', 'rate_spread',\n       'tract_to_msamd_income'],\n      dtype='object')"
     },
     "metadata": {},
     "execution_count": 7
    }
   ],
   "source": [
    "df.columns"
   ]
  },
  {
   "cell_type": "code",
   "execution_count": null,
   "metadata": {},
   "outputs": [],
   "source": []
  }
 ],
 "metadata": {
  "kernelspec": {
   "display_name": "Python 3",
   "language": "python",
   "name": "python3"
  },
  "language_info": {
   "codemirror_mode": {
    "name": "ipython",
    "version": 3
   },
   "file_extension": ".py",
   "mimetype": "text/x-python",
   "name": "python",
   "nbconvert_exporter": "python",
   "pygments_lexer": "ipython3",
   "version": "3.7.7-final"
  }
 },
 "nbformat": 4,
 "nbformat_minor": 4
}