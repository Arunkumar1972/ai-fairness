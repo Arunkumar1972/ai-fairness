{
 "cells": [
  {
   "cell_type": "markdown",
   "metadata": {},
   "source": [
    "# AI for Ethics\n",
    "Final Project Summer 2020"
   ]
  },
  {
   "cell_type": "code",
   "execution_count": 2,
   "metadata": {},
   "outputs": [],
   "source": [
    "import pandas as pd\n",
    "import numpy as np\n",
    "import matplotlib.pyplot as plt\n",
    "import zipfile"
   ]
  },
  {
   "cell_type": "code",
   "execution_count": 18,
   "metadata": {
    "tags": []
   },
   "outputs": [
    {
     "output_type": "stream",
     "name": "stdout",
     "text": "Collecting package metadata (current_repodatdone\nSolving environment:failed with initial frozen solve. Retrying with flexible solve.\nCollecting packdone\nSolving environment:failed with initial frozen solve. Retrying with flexible solve.\n\nPackagesNotFoundError: The following packages are not available from current channels:\n\n  - aif360\n\nCurrent channels:\n\n  - https://repo.anaconda.com/pkgs/main/osx-64\n  - https://repo.anaconda.com/pkgs/main/noarch\n  - https://repo.anaconda.com/pkgs/r/osx-64\n  - https://repo.anaconda.com/pkgs/r/noarch\n\nTo search for alternate channels that may provide the conda package you're\nlooking for, navigate to\n\n    https://anaconda.org\n\nand use the search bar at the top of the page.\n\n\n"
    }
   ],
   "source": [
    "import sys\n",
    "!conda install --yes --prefix {sys.prefix} aif360"
   ]
  },
  {
   "cell_type": "code",
   "execution_count": 19,
   "metadata": {},
   "outputs": [
    {
     "output_type": "error",
     "ename": "NameError",
     "evalue": "name 'CompasDataset' is not defined",
     "traceback": [
      "\u001b[0;31m---------------------------------------------------------------------------\u001b[0m",
      "\u001b[0;31mNameError\u001b[0m                                 Traceback (most recent call last)",
      "\u001b[0;32m<ipython-input-19-4984dd6a0575>\u001b[0m in \u001b[0;36m<module>\u001b[0;34m\u001b[0m\n\u001b[0;32m----> 1\u001b[0;31m \u001b[0mdataset\u001b[0m \u001b[0;34m=\u001b[0m \u001b[0mCompasDataset\u001b[0m\u001b[0;34m(\u001b[0m\u001b[0;34m)\u001b[0m\u001b[0;34m\u001b[0m\u001b[0;34m\u001b[0m\u001b[0m\n\u001b[0m",
      "\u001b[0;31mNameError\u001b[0m: name 'CompasDataset' is not defined"
     ]
    }
   ],
   "source": [
    "dataset = CompasDataset()"
   ]
  },
  {
   "cell_type": "code",
   "execution_count": null,
   "metadata": {},
   "outputs": [],
   "source": []
  },
  {
   "cell_type": "code",
   "execution_count": 20,
   "metadata": {},
   "outputs": [
    {
     "output_type": "error",
     "ename": "FileNotFoundError",
     "evalue": "[Errno 2] No such file or directory: './ny_hmda_2015.csv.zip'",
     "traceback": [
      "\u001b[0;31m---------------------------------------------------------------------------\u001b[0m",
      "\u001b[0;31mFileNotFoundError\u001b[0m                         Traceback (most recent call last)",
      "\u001b[0;32m<ipython-input-20-ab3e9e96e1ad>\u001b[0m in \u001b[0;36m<module>\u001b[0;34m\u001b[0m\n\u001b[1;32m      1\u001b[0m \u001b[0mpath_to_zip_file\u001b[0m \u001b[0;34m=\u001b[0m \u001b[0;34m'./ny_hmda_2015.csv.zip'\u001b[0m\u001b[0;34m\u001b[0m\u001b[0;34m\u001b[0m\u001b[0m\n\u001b[1;32m      2\u001b[0m \u001b[0mdirectory_to_extract_to\u001b[0m \u001b[0;34m=\u001b[0m \u001b[0;34m'./'\u001b[0m\u001b[0;34m\u001b[0m\u001b[0;34m\u001b[0m\u001b[0m\n\u001b[0;32m----> 3\u001b[0;31m \u001b[0;32mwith\u001b[0m \u001b[0mzipfile\u001b[0m\u001b[0;34m.\u001b[0m\u001b[0mZipFile\u001b[0m\u001b[0;34m(\u001b[0m\u001b[0mpath_to_zip_file\u001b[0m\u001b[0;34m,\u001b[0m \u001b[0;34m'r'\u001b[0m\u001b[0;34m)\u001b[0m \u001b[0;32mas\u001b[0m \u001b[0mzip_ref\u001b[0m\u001b[0;34m:\u001b[0m\u001b[0;34m\u001b[0m\u001b[0;34m\u001b[0m\u001b[0m\n\u001b[0m\u001b[1;32m      4\u001b[0m     \u001b[0mzip_ref\u001b[0m\u001b[0;34m.\u001b[0m\u001b[0mextractall\u001b[0m\u001b[0;34m(\u001b[0m\u001b[0mdirectory_to_extract_to\u001b[0m\u001b[0;34m)\u001b[0m\u001b[0;34m\u001b[0m\u001b[0;34m\u001b[0m\u001b[0m\n",
      "\u001b[0;32m~/opt/miniconda3/lib/python3.7/zipfile.py\u001b[0m in \u001b[0;36m__init__\u001b[0;34m(self, file, mode, compression, allowZip64, compresslevel)\u001b[0m\n\u001b[1;32m   1238\u001b[0m             \u001b[0;32mwhile\u001b[0m \u001b[0;32mTrue\u001b[0m\u001b[0;34m:\u001b[0m\u001b[0;34m\u001b[0m\u001b[0;34m\u001b[0m\u001b[0m\n\u001b[1;32m   1239\u001b[0m                 \u001b[0;32mtry\u001b[0m\u001b[0;34m:\u001b[0m\u001b[0;34m\u001b[0m\u001b[0;34m\u001b[0m\u001b[0m\n\u001b[0;32m-> 1240\u001b[0;31m                     \u001b[0mself\u001b[0m\u001b[0;34m.\u001b[0m\u001b[0mfp\u001b[0m \u001b[0;34m=\u001b[0m \u001b[0mio\u001b[0m\u001b[0;34m.\u001b[0m\u001b[0mopen\u001b[0m\u001b[0;34m(\u001b[0m\u001b[0mfile\u001b[0m\u001b[0;34m,\u001b[0m \u001b[0mfilemode\u001b[0m\u001b[0;34m)\u001b[0m\u001b[0;34m\u001b[0m\u001b[0;34m\u001b[0m\u001b[0m\n\u001b[0m\u001b[1;32m   1241\u001b[0m                 \u001b[0;32mexcept\u001b[0m \u001b[0mOSError\u001b[0m\u001b[0;34m:\u001b[0m\u001b[0;34m\u001b[0m\u001b[0;34m\u001b[0m\u001b[0m\n\u001b[1;32m   1242\u001b[0m                     \u001b[0;32mif\u001b[0m \u001b[0mfilemode\u001b[0m \u001b[0;32min\u001b[0m \u001b[0mmodeDict\u001b[0m\u001b[0;34m:\u001b[0m\u001b[0;34m\u001b[0m\u001b[0;34m\u001b[0m\u001b[0m\n",
      "\u001b[0;31mFileNotFoundError\u001b[0m: [Errno 2] No such file or directory: './ny_hmda_2015.csv.zip'"
     ]
    }
   ],
   "source": [
    "path_to_zip_file = './ny_hmda_2015.csv.zip'\n",
    "directory_to_extract_to = './'\n",
    "with zipfile.ZipFile(path_to_zip_file, 'r') as zip_ref:\n",
    "    zip_ref.extractall(directory_to_extract_to)"
   ]
  },
  {
   "cell_type": "code",
   "execution_count": 21,
   "metadata": {},
   "outputs": [
    {
     "output_type": "error",
     "ename": "FileNotFoundError",
     "evalue": "[Errno 2] File ./ny_hmda_2015.csv does not exist: './ny_hmda_2015.csv'",
     "traceback": [
      "\u001b[0;31m---------------------------------------------------------------------------\u001b[0m",
      "\u001b[0;31mFileNotFoundError\u001b[0m                         Traceback (most recent call last)",
      "\u001b[0;32m<ipython-input-21-2d17d9b7c67d>\u001b[0m in \u001b[0;36m<module>\u001b[0;34m\u001b[0m\n\u001b[0;32m----> 1\u001b[0;31m \u001b[0mdf\u001b[0m \u001b[0;34m=\u001b[0m \u001b[0mpd\u001b[0m\u001b[0;34m.\u001b[0m\u001b[0mread_csv\u001b[0m\u001b[0;34m(\u001b[0m\u001b[0mfilepath_or_buffer\u001b[0m\u001b[0;34m=\u001b[0m\u001b[0;34m'./ny_hmda_2015.csv'\u001b[0m\u001b[0;34m)\u001b[0m\u001b[0;34m\u001b[0m\u001b[0;34m\u001b[0m\u001b[0m\n\u001b[0m",
      "\u001b[0;32m~/opt/miniconda3/lib/python3.7/site-packages/pandas/io/parsers.py\u001b[0m in \u001b[0;36mparser_f\u001b[0;34m(filepath_or_buffer, sep, delimiter, header, names, index_col, usecols, squeeze, prefix, mangle_dupe_cols, dtype, engine, converters, true_values, false_values, skipinitialspace, skiprows, skipfooter, nrows, na_values, keep_default_na, na_filter, verbose, skip_blank_lines, parse_dates, infer_datetime_format, keep_date_col, date_parser, dayfirst, cache_dates, iterator, chunksize, compression, thousands, decimal, lineterminator, quotechar, quoting, doublequote, escapechar, comment, encoding, dialect, error_bad_lines, warn_bad_lines, delim_whitespace, low_memory, memory_map, float_precision)\u001b[0m\n\u001b[1;32m    674\u001b[0m         )\n\u001b[1;32m    675\u001b[0m \u001b[0;34m\u001b[0m\u001b[0m\n\u001b[0;32m--> 676\u001b[0;31m         \u001b[0;32mreturn\u001b[0m \u001b[0m_read\u001b[0m\u001b[0;34m(\u001b[0m\u001b[0mfilepath_or_buffer\u001b[0m\u001b[0;34m,\u001b[0m \u001b[0mkwds\u001b[0m\u001b[0;34m)\u001b[0m\u001b[0;34m\u001b[0m\u001b[0;34m\u001b[0m\u001b[0m\n\u001b[0m\u001b[1;32m    677\u001b[0m \u001b[0;34m\u001b[0m\u001b[0m\n\u001b[1;32m    678\u001b[0m     \u001b[0mparser_f\u001b[0m\u001b[0;34m.\u001b[0m\u001b[0m__name__\u001b[0m \u001b[0;34m=\u001b[0m \u001b[0mname\u001b[0m\u001b[0;34m\u001b[0m\u001b[0;34m\u001b[0m\u001b[0m\n",
      "\u001b[0;32m~/opt/miniconda3/lib/python3.7/site-packages/pandas/io/parsers.py\u001b[0m in \u001b[0;36m_read\u001b[0;34m(filepath_or_buffer, kwds)\u001b[0m\n\u001b[1;32m    446\u001b[0m \u001b[0;34m\u001b[0m\u001b[0m\n\u001b[1;32m    447\u001b[0m     \u001b[0;31m# Create the parser.\u001b[0m\u001b[0;34m\u001b[0m\u001b[0;34m\u001b[0m\u001b[0;34m\u001b[0m\u001b[0m\n\u001b[0;32m--> 448\u001b[0;31m     \u001b[0mparser\u001b[0m \u001b[0;34m=\u001b[0m \u001b[0mTextFileReader\u001b[0m\u001b[0;34m(\u001b[0m\u001b[0mfp_or_buf\u001b[0m\u001b[0;34m,\u001b[0m \u001b[0;34m**\u001b[0m\u001b[0mkwds\u001b[0m\u001b[0;34m)\u001b[0m\u001b[0;34m\u001b[0m\u001b[0;34m\u001b[0m\u001b[0m\n\u001b[0m\u001b[1;32m    449\u001b[0m \u001b[0;34m\u001b[0m\u001b[0m\n\u001b[1;32m    450\u001b[0m     \u001b[0;32mif\u001b[0m \u001b[0mchunksize\u001b[0m \u001b[0;32mor\u001b[0m \u001b[0miterator\u001b[0m\u001b[0;34m:\u001b[0m\u001b[0;34m\u001b[0m\u001b[0;34m\u001b[0m\u001b[0m\n",
      "\u001b[0;32m~/opt/miniconda3/lib/python3.7/site-packages/pandas/io/parsers.py\u001b[0m in \u001b[0;36m__init__\u001b[0;34m(self, f, engine, **kwds)\u001b[0m\n\u001b[1;32m    878\u001b[0m             \u001b[0mself\u001b[0m\u001b[0;34m.\u001b[0m\u001b[0moptions\u001b[0m\u001b[0;34m[\u001b[0m\u001b[0;34m\"has_index_names\"\u001b[0m\u001b[0;34m]\u001b[0m \u001b[0;34m=\u001b[0m \u001b[0mkwds\u001b[0m\u001b[0;34m[\u001b[0m\u001b[0;34m\"has_index_names\"\u001b[0m\u001b[0;34m]\u001b[0m\u001b[0;34m\u001b[0m\u001b[0;34m\u001b[0m\u001b[0m\n\u001b[1;32m    879\u001b[0m \u001b[0;34m\u001b[0m\u001b[0m\n\u001b[0;32m--> 880\u001b[0;31m         \u001b[0mself\u001b[0m\u001b[0;34m.\u001b[0m\u001b[0m_make_engine\u001b[0m\u001b[0;34m(\u001b[0m\u001b[0mself\u001b[0m\u001b[0;34m.\u001b[0m\u001b[0mengine\u001b[0m\u001b[0;34m)\u001b[0m\u001b[0;34m\u001b[0m\u001b[0;34m\u001b[0m\u001b[0m\n\u001b[0m\u001b[1;32m    881\u001b[0m \u001b[0;34m\u001b[0m\u001b[0m\n\u001b[1;32m    882\u001b[0m     \u001b[0;32mdef\u001b[0m \u001b[0mclose\u001b[0m\u001b[0;34m(\u001b[0m\u001b[0mself\u001b[0m\u001b[0;34m)\u001b[0m\u001b[0;34m:\u001b[0m\u001b[0;34m\u001b[0m\u001b[0;34m\u001b[0m\u001b[0m\n",
      "\u001b[0;32m~/opt/miniconda3/lib/python3.7/site-packages/pandas/io/parsers.py\u001b[0m in \u001b[0;36m_make_engine\u001b[0;34m(self, engine)\u001b[0m\n\u001b[1;32m   1112\u001b[0m     \u001b[0;32mdef\u001b[0m \u001b[0m_make_engine\u001b[0m\u001b[0;34m(\u001b[0m\u001b[0mself\u001b[0m\u001b[0;34m,\u001b[0m \u001b[0mengine\u001b[0m\u001b[0;34m=\u001b[0m\u001b[0;34m\"c\"\u001b[0m\u001b[0;34m)\u001b[0m\u001b[0;34m:\u001b[0m\u001b[0;34m\u001b[0m\u001b[0;34m\u001b[0m\u001b[0m\n\u001b[1;32m   1113\u001b[0m         \u001b[0;32mif\u001b[0m \u001b[0mengine\u001b[0m \u001b[0;34m==\u001b[0m \u001b[0;34m\"c\"\u001b[0m\u001b[0;34m:\u001b[0m\u001b[0;34m\u001b[0m\u001b[0;34m\u001b[0m\u001b[0m\n\u001b[0;32m-> 1114\u001b[0;31m             \u001b[0mself\u001b[0m\u001b[0;34m.\u001b[0m\u001b[0m_engine\u001b[0m \u001b[0;34m=\u001b[0m \u001b[0mCParserWrapper\u001b[0m\u001b[0;34m(\u001b[0m\u001b[0mself\u001b[0m\u001b[0;34m.\u001b[0m\u001b[0mf\u001b[0m\u001b[0;34m,\u001b[0m \u001b[0;34m**\u001b[0m\u001b[0mself\u001b[0m\u001b[0;34m.\u001b[0m\u001b[0moptions\u001b[0m\u001b[0;34m)\u001b[0m\u001b[0;34m\u001b[0m\u001b[0;34m\u001b[0m\u001b[0m\n\u001b[0m\u001b[1;32m   1115\u001b[0m         \u001b[0;32melse\u001b[0m\u001b[0;34m:\u001b[0m\u001b[0;34m\u001b[0m\u001b[0;34m\u001b[0m\u001b[0m\n\u001b[1;32m   1116\u001b[0m             \u001b[0;32mif\u001b[0m \u001b[0mengine\u001b[0m \u001b[0;34m==\u001b[0m \u001b[0;34m\"python\"\u001b[0m\u001b[0;34m:\u001b[0m\u001b[0;34m\u001b[0m\u001b[0;34m\u001b[0m\u001b[0m\n",
      "\u001b[0;32m~/opt/miniconda3/lib/python3.7/site-packages/pandas/io/parsers.py\u001b[0m in \u001b[0;36m__init__\u001b[0;34m(self, src, **kwds)\u001b[0m\n\u001b[1;32m   1889\u001b[0m         \u001b[0mkwds\u001b[0m\u001b[0;34m[\u001b[0m\u001b[0;34m\"usecols\"\u001b[0m\u001b[0;34m]\u001b[0m \u001b[0;34m=\u001b[0m \u001b[0mself\u001b[0m\u001b[0;34m.\u001b[0m\u001b[0musecols\u001b[0m\u001b[0;34m\u001b[0m\u001b[0;34m\u001b[0m\u001b[0m\n\u001b[1;32m   1890\u001b[0m \u001b[0;34m\u001b[0m\u001b[0m\n\u001b[0;32m-> 1891\u001b[0;31m         \u001b[0mself\u001b[0m\u001b[0;34m.\u001b[0m\u001b[0m_reader\u001b[0m \u001b[0;34m=\u001b[0m \u001b[0mparsers\u001b[0m\u001b[0;34m.\u001b[0m\u001b[0mTextReader\u001b[0m\u001b[0;34m(\u001b[0m\u001b[0msrc\u001b[0m\u001b[0;34m,\u001b[0m \u001b[0;34m**\u001b[0m\u001b[0mkwds\u001b[0m\u001b[0;34m)\u001b[0m\u001b[0;34m\u001b[0m\u001b[0;34m\u001b[0m\u001b[0m\n\u001b[0m\u001b[1;32m   1892\u001b[0m         \u001b[0mself\u001b[0m\u001b[0;34m.\u001b[0m\u001b[0munnamed_cols\u001b[0m \u001b[0;34m=\u001b[0m \u001b[0mself\u001b[0m\u001b[0;34m.\u001b[0m\u001b[0m_reader\u001b[0m\u001b[0;34m.\u001b[0m\u001b[0munnamed_cols\u001b[0m\u001b[0;34m\u001b[0m\u001b[0;34m\u001b[0m\u001b[0m\n\u001b[1;32m   1893\u001b[0m \u001b[0;34m\u001b[0m\u001b[0m\n",
      "\u001b[0;32mpandas/_libs/parsers.pyx\u001b[0m in \u001b[0;36mpandas._libs.parsers.TextReader.__cinit__\u001b[0;34m()\u001b[0m\n",
      "\u001b[0;32mpandas/_libs/parsers.pyx\u001b[0m in \u001b[0;36mpandas._libs.parsers.TextReader._setup_parser_source\u001b[0;34m()\u001b[0m\n",
      "\u001b[0;31mFileNotFoundError\u001b[0m: [Errno 2] File ./ny_hmda_2015.csv does not exist: './ny_hmda_2015.csv'"
     ]
    }
   ],
   "source": [
    "df = pd.read_csv(filepath_or_buffer='./ny_hmda_2015.csv')"
   ]
  },
  {
   "cell_type": "code",
   "execution_count": 22,
   "metadata": {},
   "outputs": [
    {
     "output_type": "execute_result",
     "data": {
      "text/plain": "   action_taken action_taken_name  agency_code agency_abbr  \\\n0             1   Loan originated            9        CFPB   \n1             1   Loan originated            9        CFPB   \n2             1   Loan originated            7         HUD   \n3             1   Loan originated            9        CFPB   \n4             1   Loan originated            9        CFPB   \n\n                                   agency_name  applicant_ethnicity  \\\n0         Consumer Financial Protection Bureau                    2   \n1         Consumer Financial Protection Bureau                    2   \n2  Department of Housing and Urban Development                    2   \n3         Consumer Financial Protection Bureau                    2   \n4         Consumer Financial Protection Bureau                    2   \n\n  applicant_ethnicity_name  applicant_income_000s  applicant_race_1  \\\n0   Not Hispanic or Latino                   97.0                 5   \n1   Not Hispanic or Latino                  200.0                 5   \n2   Not Hispanic or Latino                    NaN                 3   \n3   Not Hispanic or Latino                  202.0                 5   \n4   Not Hispanic or Latino                  255.0                 5   \n\n   applicant_race_2  ...  state_abbr  state_name  hud_median_family_income  \\\n0               NaN  ...          NY    New York                  109000.0   \n1               NaN  ...          NY    New York                   71300.0   \n2               NaN  ...          NY    New York                   71300.0   \n3               NaN  ...          NY    New York                  109000.0   \n4               NaN  ...          NY    New York                  109000.0   \n\n  loan_amount_000s number_of_1_to_4_family_units  \\\n0              187                         363.0   \n1              460                          53.0   \n2              296                        2745.0   \n3              770                        1879.0   \n4              648                         835.0   \n\n  number_of_owner_occupied_units minority_population population  rate_spread  \\\n0                         1817.0           21.139999     5870.0          NaN   \n1                          256.0           45.959999     3512.0          NaN   \n2                         2586.0           38.990002     8357.0          NaN   \n3                         2147.0            7.350000     6642.0          NaN   \n4                          676.0           30.059999     2339.0          NaN   \n\n  tract_to_msamd_income  \n0            109.459999  \n1            160.600006  \n2            134.820007  \n3            165.830002  \n4            133.300003  \n\n[5 rows x 78 columns]",
      "text/html": "<div>\n<style scoped>\n    .dataframe tbody tr th:only-of-type {\n        vertical-align: middle;\n    }\n\n    .dataframe tbody tr th {\n        vertical-align: top;\n    }\n\n    .dataframe thead th {\n        text-align: right;\n    }\n</style>\n<table border=\"1\" class=\"dataframe\">\n  <thead>\n    <tr style=\"text-align: right;\">\n      <th></th>\n      <th>action_taken</th>\n      <th>action_taken_name</th>\n      <th>agency_code</th>\n      <th>agency_abbr</th>\n      <th>agency_name</th>\n      <th>applicant_ethnicity</th>\n      <th>applicant_ethnicity_name</th>\n      <th>applicant_income_000s</th>\n      <th>applicant_race_1</th>\n      <th>applicant_race_2</th>\n      <th>...</th>\n      <th>state_abbr</th>\n      <th>state_name</th>\n      <th>hud_median_family_income</th>\n      <th>loan_amount_000s</th>\n      <th>number_of_1_to_4_family_units</th>\n      <th>number_of_owner_occupied_units</th>\n      <th>minority_population</th>\n      <th>population</th>\n      <th>rate_spread</th>\n      <th>tract_to_msamd_income</th>\n    </tr>\n  </thead>\n  <tbody>\n    <tr>\n      <th>0</th>\n      <td>1</td>\n      <td>Loan originated</td>\n      <td>9</td>\n      <td>CFPB</td>\n      <td>Consumer Financial Protection Bureau</td>\n      <td>2</td>\n      <td>Not Hispanic or Latino</td>\n      <td>97.0</td>\n      <td>5</td>\n      <td>NaN</td>\n      <td>...</td>\n      <td>NY</td>\n      <td>New York</td>\n      <td>109000.0</td>\n      <td>187</td>\n      <td>363.0</td>\n      <td>1817.0</td>\n      <td>21.139999</td>\n      <td>5870.0</td>\n      <td>NaN</td>\n      <td>109.459999</td>\n    </tr>\n    <tr>\n      <th>1</th>\n      <td>1</td>\n      <td>Loan originated</td>\n      <td>9</td>\n      <td>CFPB</td>\n      <td>Consumer Financial Protection Bureau</td>\n      <td>2</td>\n      <td>Not Hispanic or Latino</td>\n      <td>200.0</td>\n      <td>5</td>\n      <td>NaN</td>\n      <td>...</td>\n      <td>NY</td>\n      <td>New York</td>\n      <td>71300.0</td>\n      <td>460</td>\n      <td>53.0</td>\n      <td>256.0</td>\n      <td>45.959999</td>\n      <td>3512.0</td>\n      <td>NaN</td>\n      <td>160.600006</td>\n    </tr>\n    <tr>\n      <th>2</th>\n      <td>1</td>\n      <td>Loan originated</td>\n      <td>7</td>\n      <td>HUD</td>\n      <td>Department of Housing and Urban Development</td>\n      <td>2</td>\n      <td>Not Hispanic or Latino</td>\n      <td>NaN</td>\n      <td>3</td>\n      <td>NaN</td>\n      <td>...</td>\n      <td>NY</td>\n      <td>New York</td>\n      <td>71300.0</td>\n      <td>296</td>\n      <td>2745.0</td>\n      <td>2586.0</td>\n      <td>38.990002</td>\n      <td>8357.0</td>\n      <td>NaN</td>\n      <td>134.820007</td>\n    </tr>\n    <tr>\n      <th>3</th>\n      <td>1</td>\n      <td>Loan originated</td>\n      <td>9</td>\n      <td>CFPB</td>\n      <td>Consumer Financial Protection Bureau</td>\n      <td>2</td>\n      <td>Not Hispanic or Latino</td>\n      <td>202.0</td>\n      <td>5</td>\n      <td>NaN</td>\n      <td>...</td>\n      <td>NY</td>\n      <td>New York</td>\n      <td>109000.0</td>\n      <td>770</td>\n      <td>1879.0</td>\n      <td>2147.0</td>\n      <td>7.350000</td>\n      <td>6642.0</td>\n      <td>NaN</td>\n      <td>165.830002</td>\n    </tr>\n    <tr>\n      <th>4</th>\n      <td>1</td>\n      <td>Loan originated</td>\n      <td>9</td>\n      <td>CFPB</td>\n      <td>Consumer Financial Protection Bureau</td>\n      <td>2</td>\n      <td>Not Hispanic or Latino</td>\n      <td>255.0</td>\n      <td>5</td>\n      <td>NaN</td>\n      <td>...</td>\n      <td>NY</td>\n      <td>New York</td>\n      <td>109000.0</td>\n      <td>648</td>\n      <td>835.0</td>\n      <td>676.0</td>\n      <td>30.059999</td>\n      <td>2339.0</td>\n      <td>NaN</td>\n      <td>133.300003</td>\n    </tr>\n  </tbody>\n</table>\n<p>5 rows × 78 columns</p>\n</div>"
     },
     "metadata": {},
     "execution_count": 22
    }
   ],
   "source": [
    "df.head()"
   ]
  },
  {
   "cell_type": "code",
   "execution_count": 23,
   "metadata": {},
   "outputs": [
    {
     "output_type": "execute_result",
     "data": {
      "text/plain": "(439654, 78)"
     },
     "metadata": {},
     "execution_count": 23
    }
   ],
   "source": [
    "df.shape"
   ]
  },
  {
   "cell_type": "code",
   "execution_count": 24,
   "metadata": {},
   "outputs": [
    {
     "output_type": "execute_result",
     "data": {
      "text/plain": "Index(['action_taken', 'action_taken_name', 'agency_code', 'agency_abbr',\n       'agency_name', 'applicant_ethnicity', 'applicant_ethnicity_name',\n       'applicant_income_000s', 'applicant_race_1', 'applicant_race_2',\n       'applicant_race_3', 'applicant_race_4', 'applicant_race_5',\n       'applicant_race_name_1', 'applicant_race_name_2',\n       'applicant_race_name_3', 'applicant_race_name_4',\n       'applicant_race_name_5', 'applicant_sex', 'applicant_sex_name',\n       'application_date_indicator', 'as_of_year', 'census_tract_number',\n       'co_applicant_ethnicity', 'co_applicant_ethnicity_name',\n       'co_applicant_race_1', 'co_applicant_race_2', 'co_applicant_race_3',\n       'co_applicant_race_4', 'co_applicant_race_5',\n       'co_applicant_race_name_1', 'co_applicant_race_name_2',\n       'co_applicant_race_name_3', 'co_applicant_race_name_4',\n       'co_applicant_race_name_5', 'co_applicant_sex', 'co_applicant_sex_name',\n       'county_code', 'county_name', 'denial_reason_1', 'denial_reason_2',\n       'denial_reason_3', 'denial_reason_name_1', 'denial_reason_name_2',\n       'denial_reason_name_3', 'edit_status', 'edit_status_name',\n       'hoepa_status', 'hoepa_status_name', 'lien_status', 'lien_status_name',\n       'loan_purpose', 'loan_purpose_name', 'loan_type', 'loan_type_name',\n       'msamd', 'msamd_name', 'owner_occupancy', 'owner_occupancy_name',\n       'preapproval', 'preapproval_name', 'property_type',\n       'property_type_name', 'purchaser_type', 'purchaser_type_name',\n       'respondent_id', 'sequence_number', 'state_code', 'state_abbr',\n       'state_name', 'hud_median_family_income', 'loan_amount_000s',\n       'number_of_1_to_4_family_units', 'number_of_owner_occupied_units',\n       'minority_population', 'population', 'rate_spread',\n       'tract_to_msamd_income'],\n      dtype='object')"
     },
     "metadata": {},
     "execution_count": 24
    }
   ],
   "source": [
    "df.columns"
   ]
  },
  {
   "cell_type": "code",
   "execution_count": null,
   "metadata": {},
   "outputs": [],
   "source": []
  }
 ],
 "metadata": {
  "kernelspec": {
   "display_name": "Python 3",
   "language": "python",
   "name": "python3"
  },
  "language_info": {
   "codemirror_mode": {
    "name": "ipython",
    "version": 3
   },
   "file_extension": ".py",
   "mimetype": "text/x-python",
   "name": "python",
   "nbconvert_exporter": "python",
   "pygments_lexer": "ipython3",
   "version": "3.7.7-final"
  }
 },
 "nbformat": 4,
 "nbformat_minor": 4
}